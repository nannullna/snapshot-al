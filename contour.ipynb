{
 "cells": [
  {
   "cell_type": "code",
   "execution_count": 5,
   "metadata": {},
   "outputs": [],
   "source": [
    "import os\n",
    "from glob import glob\n",
    "from typing import Dict\n",
    "\n",
    "import numpy as np\n",
    "import matplotlib.pyplot as plt\n",
    "\n",
    "import torch\n",
    "import torch.nn as nn\n",
    "import torch.nn.functional as F\n",
    "from torch.utils.data import DataLoader\n",
    "from torch.optim.swa_utils import update_bn\n",
    "\n",
    "import torchvision.transforms as T\n",
    "from torchvision.models import resnet18\n",
    "from torchvision.datasets import CIFAR10\n",
    "\n",
    "from tqdm.notebook import tqdm, trange\n",
    "\n",
    "mean = [0.4914, 0.4822, 0.4465]\n",
    "std  = [0.2470, 0.2435, 0.2616]\n",
    "input_size = 32\n",
    "\n",
    "test_transform  = T.Compose([\n",
    "    T.ToTensor(), \n",
    "    T.Normalize(mean, std)\n",
    "])\n",
    "\n",
    "# test_set = CIFAR10(\"/opt/datasets/cifar10\", train=False, download=True, transform=test_transform)\n",
    "# test_loader = DataLoader(test_set, batch_size=256, shuffle=False, num_workers=4, pin_memory=True)\n",
    "\n",
    "\n",
    "def create_model() -> nn.Module:\n",
    "    model = resnet18(pretrained=False, num_classes=10)\n",
    "    model.conv1 = nn.Conv2d(3, 64, 3, 1, 1, bias=False)\n",
    "    model.maxpool = nn.Identity()\n",
    "    return model\n",
    "\n",
    "\n",
    "def load_model_from_checkpoint(ckpt: str) -> nn.Module:\n",
    "    model = create_model()\n",
    "    checkpoint = torch.load(ckpt, map_location='cpu')\n",
    "    state_dict = checkpoint['state_dict']\n",
    "    msg = model.load_state_dict(state_dict, strict=True)\n",
    "    print(msg)\n",
    "    return model\n",
    "\n",
    "\n",
    "@torch.no_grad()\n",
    "def evaluate(model: nn.Module, dataloader: DataLoader, device: torch.device) -> Dict[str, torch.Tensor]:\n",
    "    \n",
    "    # Update BNs from dataloader.\n",
    "    update_bn(dataloader, model, device)\n",
    "\n",
    "    all_targets = []\n",
    "    all_logits = []\n",
    "    \n",
    "    model.eval()\n",
    "    for imgs, lbls in dataloader:\n",
    "        if device is not None:\n",
    "            imgs, lbls = imgs.to(device), lbls.to(device)\n",
    "        logits = model(imgs)\n",
    "        all_targets.append(lbls)\n",
    "        all_logits.append(logits)\n",
    "    \n",
    "    all_targets = torch.cat(all_targets, dim=0)\n",
    "    all_logits  = torch.cat(all_logits, dim=0)\n",
    "\n",
    "    return {\n",
    "        \"logits\": all_logits,\n",
    "        \"targets\": all_targets\n",
    "    }"
   ]
  },
  {
   "cell_type": "code",
   "execution_count": 6,
   "metadata": {},
   "outputs": [
    {
     "name": "stdout",
     "output_type": "stream",
     "text": [
      "Found 0 checkpoints.\n"
     ]
    }
   ],
   "source": [
    "TRAIN_SIZE = 2000\n",
    "\n",
    "checkpoints = []\n",
    "\n",
    "# EXP_DIR = './empirical/ensemble_20220923_163947/'\n",
    "# checkpoints = glob(os.path.join(EXP_DIR, f\"model_size={TRAIN_SIZE}*.pt\"))\n",
    "# print(f\"Found {len(checkpoints)} checkpoints.\")\n",
    "\n",
    "# EXP_DIR = './empirical/ensemble_20220922_*/'\n",
    "# checkpoints += glob(os.path.join(EXP_DIR, f\"model_size={TRAIN_SIZE}*.pt\"))\n",
    "# print(f\"Found {len(checkpoints)} checkpoints.\")\n",
    "\n",
    "EXP_DIR = './empirical/swa_20220922_185019/'\n",
    "checkpoints += glob(os.path.join(EXP_DIR, f\"model_size={TRAIN_SIZE}*.pt\"))\n",
    "print(f\"Found {len(checkpoints)} checkpoints.\")\n",
    "\n",
    "models = [load_model_from_checkpoint(ckpt) for ckpt in checkpoints]"
   ]
  },
  {
   "cell_type": "code",
   "execution_count": 3,
   "metadata": {},
   "outputs": [
    {
     "data": {
      "text/plain": [
       "(5, 11166154)"
      ]
     },
     "execution_count": 3,
     "metadata": {},
     "output_type": "execute_result"
    }
   ],
   "source": [
    "gather_all_weights = []\n",
    "\n",
    "for model in models:\n",
    "    all_weights = []\n",
    "    for n, p in model.named_parameters():\n",
    "        if \"bn\" not in n:\n",
    "            all_weights.append(p.data.flatten().numpy())\n",
    "    all_weights = np.hstack(all_weights)\n",
    "    gather_all_weights.append(all_weights)\n",
    "\n",
    "gather_all_weights = np.vstack(gather_all_weights)\n",
    "gather_all_weights.shape"
   ]
  },
  {
   "cell_type": "code",
   "execution_count": 4,
   "metadata": {},
   "outputs": [],
   "source": [
    "from sklearn.decomposition import PCA\n",
    "\n",
    "pca = PCA(n_components=2)\n",
    "fitted_weight_space = pca.fit_transform(gather_all_weights)"
   ]
  },
  {
   "cell_type": "code",
   "execution_count": 5,
   "metadata": {},
   "outputs": [
    {
     "data": {
      "text/plain": [
       "[<matplotlib.lines.Line2D at 0x7f42749f56a0>]"
      ]
     },
     "execution_count": 5,
     "metadata": {},
     "output_type": "execute_result"
    },
    {
     "data": {
      "image/png": "[encoded data removed]",
      "text/plain": [
       "<Figure size 432x288 with 1 Axes>"
      ]
     },
     "metadata": {
      "needs_background": "light"
     },
     "output_type": "display_data"
    }
   ],
   "source": [
    "plt.plot(pca.explained_variance_ratio_)"
   ]
  },
  {
   "cell_type": "code",
   "execution_count": 6,
   "metadata": {},
   "outputs": [],
   "source": [
    "maxs = fitted_weight_space.max(axis=0)\n",
    "mins = fitted_weight_space.min(axis=0)"
   ]
  },
  {
   "cell_type": "code",
   "execution_count": 7,
   "metadata": {},
   "outputs": [
    {
     "data": {
      "text/plain": [
       "<matplotlib.collections.PathCollection at 0x7f427491db20>"
      ]
     },
     "execution_count": 7,
     "metadata": {},
     "output_type": "execute_result"
    },
    {
     "data": {
      "image/png": "[encoded data removed]",
      "text/plain": [
       "<Figure size 432x288 with 1 Axes>"
      ]
     },
     "metadata": {
      "needs_background": "light"
     },
     "output_type": "display_data"
    }
   ],
   "source": [
    "plt.scatter(fitted_weight_space[:, 0], fitted_weight_space[:, 1])"
   ]
  },
  {
   "cell_type": "code",
   "execution_count": 8,
   "metadata": {},
   "outputs": [
    {
     "data": {
      "image/png": "[encoded data removed]",
      "text/plain": [
       "<Figure size 432x288 with 1 Axes>"
      ]
     },
     "metadata": {
      "needs_background": "light"
     },
     "output_type": "display_data"
    }
   ],
   "source": [
    "plt.scatter(fitted_weight_space[:, 0], fitted_weight_space[:, 1])\n",
    "for i in range(len(fitted_weight_space)):\n",
    "    plt.text(fitted_weight_space[i, 0]+0.5, fitted_weight_space[i, 1]-0.5, s=str(i))"
   ]
  },
  {
   "cell_type": "code",
   "execution_count": 9,
   "metadata": {},
   "outputs": [],
   "source": [
    "maxs = fitted_weight_space.max(axis=0)\n",
    "mins = fitted_weight_space.min(axis=0)\n",
    "\n",
    "xs = np.linspace(mins[0]-2, maxs[0]+2, 31)\n",
    "ys = np.linspace(mins[1]-2, maxs[1]+2, 31)\n",
    "x_grid, y_grid = np.meshgrid(xs, ys)"
   ]
  },
  {
   "cell_type": "code",
   "execution_count": 10,
   "metadata": {},
   "outputs": [
    {
     "name": "stdout",
     "output_type": "stream",
     "text": [
      "0.426 0.432 0.439 0.444 0.449 0.454 0.459 0.463 0.467 0.468 0.468 0.468 0.468 0.470 0.469 0.468 0.467 0.463 0.461 0.456 0.451 0.447 0.442 0.440 0.432 0.425 0.419 0.411 0.403 0.395 0.387 \n",
      "0.435 0.442 0.447 0.453 0.457 0.463 0.468 0.472 0.474 0.476 0.478 0.478 0.478 0.477 0.476 0.474 0.472 0.472 0.467 0.465 0.461 0.459 0.453 0.447 0.441 0.434 0.425 0.419 0.410 0.402 0.395 \n",
      "0.443 0.451 0.456 0.464 0.468 0.474 0.476 0.480 0.482 0.485 0.486 0.487 0.483 0.483 0.482 0.483 0.481 0.480 0.478 0.475 0.470 0.465 0.458 0.454 0.448 0.441 0.436 0.426 0.417 0.408 0.401 \n",
      "0.450 0.457 0.465 0.469 0.475 0.482 0.485 0.488 0.492 0.494 0.494 0.494 0.495 0.493 0.491 0.490 0.490 0.490 0.489 0.483 0.477 0.472 0.466 0.461 0.455 0.448 0.441 0.434 0.424 0.415 0.408 \n",
      "0.459 0.466 0.473 0.477 0.483 0.489 0.496 0.496 0.500 0.501 0.500 0.500 0.501 0.501 0.501 0.500 0.500 0.498 0.495 0.494 0.489 0.483 0.476 0.470 0.462 0.455 0.449 0.440 0.432 0.424 0.416 \n",
      "0.470 0.475 0.483 0.488 0.494 0.500 0.504 0.506 0.506 0.507 0.510 0.508 0.508 0.510 0.508 0.509 0.508 0.506 0.504 0.502 0.495 0.492 0.485 0.478 0.472 0.465 0.457 0.448 0.441 0.430 0.424 \n",
      "0.479 0.485 0.492 0.497 0.502 0.507 0.511 0.514 0.515 0.517 0.519 0.518 0.519 0.517 0.516 0.516 0.513 0.514 0.512 0.508 0.503 0.500 0.496 0.489 0.481 0.473 0.466 0.457 0.448 0.440 0.430 \n",
      "0.486 0.494 0.501 0.505 0.510 0.517 0.521 0.522 0.524 0.525 0.526 0.525 0.525 0.526 0.524 0.524 0.521 0.520 0.517 0.513 0.511 0.505 0.499 0.495 0.488 0.480 0.471 0.462 0.454 0.447 0.436 \n",
      "0.492 0.501 0.508 0.514 0.520 0.524 0.528 0.531 0.533 0.533 0.535 0.534 0.532 0.532 0.530 0.529 0.527 0.524 0.524 0.519 0.515 0.511 0.507 0.501 0.495 0.486 0.477 0.470 0.460 0.451 0.443 \n",
      "0.499 0.505 0.512 0.521 0.523 0.530 0.534 0.536 0.537 0.538 0.540 0.540 0.538 0.538 0.537 0.534 0.533 0.530 0.529 0.526 0.521 0.515 0.510 0.507 0.499 0.492 0.485 0.477 0.467 0.459 0.450 \n",
      "0.504 0.510 0.517 0.523 0.529 0.534 0.536 0.539 0.539 0.541 0.543 0.544 0.544 0.542 0.542 0.540 0.537 0.535 0.533 0.529 0.525 0.520 0.515 0.510 0.503 0.495 0.487 0.481 0.472 0.464 0.457 \n",
      "0.508 0.514 0.520 0.525 0.531 0.534 0.537 0.541 0.542 0.545 0.546 0.546 0.548 0.548 0.547 0.544 0.541 0.539 0.536 0.534 0.527 0.524 0.518 0.513 0.507 0.499 0.492 0.485 0.477 0.470 0.461 \n",
      "0.509 0.514 0.521 0.526 0.531 0.533 0.538 0.542 0.544 0.544 0.546 0.548 0.548 0.549 0.548 0.547 0.544 0.542 0.539 0.536 0.531 0.525 0.520 0.515 0.508 0.502 0.494 0.487 0.477 0.471 0.464 \n",
      "0.507 0.513 0.521 0.526 0.531 0.534 0.538 0.540 0.544 0.544 0.546 0.548 0.549 0.549 0.549 0.548 0.546 0.542 0.539 0.535 0.533 0.528 0.521 0.516 0.509 0.502 0.495 0.486 0.478 0.470 0.464 \n",
      "0.507 0.514 0.519 0.524 0.530 0.534 0.538 0.539 0.542 0.543 0.544 0.546 0.548 0.547 0.549 0.547 0.545 0.542 0.538 0.535 0.531 0.527 0.522 0.517 0.510 0.501 0.495 0.489 0.481 0.474 0.465 \n",
      "0.507 0.513 0.517 0.520 0.527 0.530 0.533 0.535 0.538 0.539 0.541 0.544 0.544 0.545 0.545 0.544 0.542 0.541 0.539 0.534 0.532 0.528 0.524 0.518 0.512 0.506 0.499 0.491 0.484 0.477 0.469 \n",
      "0.507 0.511 0.515 0.519 0.522 0.526 0.529 0.530 0.533 0.536 0.537 0.539 0.539 0.541 0.542 0.542 0.540 0.538 0.536 0.533 0.529 0.525 0.521 0.518 0.513 0.509 0.502 0.493 0.486 0.481 0.471 \n",
      "0.503 0.507 0.512 0.516 0.520 0.523 0.524 0.527 0.531 0.533 0.535 0.535 0.536 0.536 0.538 0.537 0.536 0.534 0.532 0.531 0.529 0.525 0.523 0.517 0.513 0.508 0.503 0.496 0.488 0.481 0.474 \n",
      "0.499 0.505 0.509 0.513 0.515 0.519 0.521 0.524 0.526 0.530 0.532 0.532 0.532 0.533 0.533 0.533 0.532 0.531 0.530 0.529 0.528 0.525 0.523 0.518 0.512 0.509 0.502 0.498 0.490 0.482 0.473 \n",
      "0.496 0.502 0.506 0.511 0.514 0.516 0.520 0.522 0.524 0.526 0.527 0.530 0.530 0.532 0.531 0.528 0.529 0.527 0.528 0.526 0.525 0.523 0.520 0.516 0.511 0.506 0.502 0.496 0.488 0.482 0.476 \n",
      "0.495 0.500 0.502 0.507 0.511 0.515 0.517 0.522 0.522 0.524 0.524 0.527 0.527 0.528 0.528 0.528 0.527 0.526 0.525 0.524 0.522 0.520 0.516 0.512 0.508 0.502 0.499 0.494 0.490 0.483 0.477 \n",
      "0.495 0.498 0.502 0.506 0.509 0.514 0.517 0.517 0.518 0.522 0.522 0.523 0.524 0.526 0.526 0.526 0.524 0.525 0.522 0.521 0.520 0.516 0.514 0.511 0.506 0.502 0.497 0.492 0.488 0.485 0.476 \n",
      "0.494 0.498 0.501 0.506 0.510 0.512 0.514 0.516 0.517 0.519 0.519 0.519 0.520 0.522 0.522 0.523 0.521 0.519 0.519 0.518 0.518 0.515 0.511 0.509 0.504 0.499 0.496 0.492 0.486 0.483 0.477 \n",
      "0.492 0.496 0.500 0.504 0.507 0.510 0.513 0.514 0.515 0.515 0.516 0.517 0.519 0.518 0.518 0.518 0.517 0.516 0.515 0.515 0.514 0.512 0.511 0.508 0.502 0.497 0.494 0.489 0.484 0.481 0.478 \n",
      "0.488 0.492 0.498 0.502 0.504 0.507 0.510 0.511 0.512 0.513 0.514 0.516 0.516 0.515 0.515 0.514 0.513 0.513 0.513 0.511 0.510 0.510 0.508 0.506 0.502 0.496 0.493 0.488 0.484 0.479 0.474 \n",
      "0.485 0.490 0.495 0.498 0.503 0.505 0.506 0.509 0.510 0.511 0.511 0.511 0.512 0.512 0.510 0.512 0.510 0.508 0.507 0.507 0.505 0.504 0.503 0.501 0.499 0.494 0.490 0.488 0.484 0.480 0.475 \n",
      "0.482 0.486 0.491 0.495 0.498 0.500 0.503 0.506 0.507 0.509 0.509 0.507 0.508 0.508 0.506 0.506 0.507 0.507 0.504 0.503 0.502 0.500 0.498 0.498 0.496 0.493 0.488 0.485 0.483 0.479 0.474 \n",
      "0.478 0.482 0.488 0.491 0.494 0.497 0.500 0.501 0.503 0.504 0.504 0.505 0.503 0.503 0.503 0.504 0.505 0.502 0.501 0.500 0.498 0.496 0.494 0.493 0.491 0.489 0.486 0.482 0.480 0.478 0.474 \n",
      "0.477 0.480 0.484 0.488 0.490 0.493 0.496 0.498 0.498 0.500 0.500 0.500 0.500 0.499 0.499 0.500 0.500 0.498 0.498 0.497 0.495 0.494 0.491 0.490 0.488 0.487 0.483 0.480 0.479 0.475 0.472 \n",
      "0.475 0.478 0.481 0.485 0.488 0.489 0.491 0.493 0.493 0.495 0.495 0.495 0.496 0.495 0.496 0.496 0.495 0.495 0.496 0.495 0.493 0.491 0.488 0.489 0.486 0.485 0.481 0.477 0.475 0.471 0.468 \n",
      "0.472 0.476 0.479 0.480 0.484 0.486 0.488 0.490 0.490 0.490 0.491 0.490 0.491 0.491 0.491 0.491 0.491 0.493 0.493 0.491 0.490 0.488 0.486 0.484 0.483 0.482 0.479 0.476 0.472 0.466 0.465 \n"
     ]
    }
   ],
   "source": [
    "device = torch.device('cuda')\n",
    "\n",
    "nlls = np.zeros((len(xs), len(ys)))\n",
    "accs = np.zeros((len(xs), len(ys)))\n",
    "\n",
    "for i in range(len(xs)):\n",
    "\n",
    "    for j in range(len(ys)):\n",
    "\n",
    "        x_pt, y_pt = xs[i], ys[j]\n",
    "        pt_at_grid = np.array([x_pt, y_pt])\n",
    "        transformed_weights = pca.inverse_transform(pt_at_grid)\n",
    "        \n",
    "        weight_idx = 0\n",
    "        model = create_model()\n",
    "\n",
    "        for n, p in model.named_parameters():\n",
    "            if \"bn\" not in n:\n",
    "                shape = p.data.shape\n",
    "                numel = p.data.numel()\n",
    "\n",
    "                weight_copy = transformed_weights[weight_idx:weight_idx+numel].copy()\n",
    "                weight_copy = weight_copy.reshape(shape)\n",
    "                weight_copy = torch.tensor(weight_copy, dtype=p.dtype)\n",
    "                p.data.copy_(weight_copy)\n",
    "                \n",
    "                weight_idx += numel\n",
    "            \n",
    "        model.to(device)\n",
    "        eval_results = evaluate(model, test_loader, device)\n",
    "        logits = eval_results['logits'].cpu()\n",
    "        targets = eval_results['targets'].cpu()\n",
    "        preds = torch.argmax(logits, dim=1)\n",
    "\n",
    "        nll = F.cross_entropy(logits, targets)\n",
    "        acc = (preds == targets).float().mean()\n",
    "        nlls[i, j] = nll.item()\n",
    "        accs[i, j] = acc.item()\n",
    "\n",
    "        print(f\"{acc:.3f}\", end=' ')\n",
    "        \n",
    "    print()"
   ]
  },
  {
   "cell_type": "code",
   "execution_count": 2,
   "metadata": {},
   "outputs": [
    {
     "ename": "NameError",
     "evalue": "name 'np' is not defined",
     "output_type": "error",
     "traceback": [
      "\u001b[0;31m---------------------------------------------------------------------------\u001b[0m",
      "\u001b[0;31mNameError\u001b[0m                                 Traceback (most recent call last)",
      "\u001b[0;32m/tmp/ipykernel_53259/1119814851.py\u001b[0m in \u001b[0;36m<module>\u001b[0;34m\u001b[0m\n\u001b[0;32m----> 1\u001b[0;31m accs = np.array([\n\u001b[0m\u001b[1;32m      2\u001b[0m     \u001b[0;34m[\u001b[0m\u001b[0;36m0.426\u001b[0m\u001b[0;34m,\u001b[0m \u001b[0;36m0.432\u001b[0m\u001b[0;34m,\u001b[0m \u001b[0;36m0.439\u001b[0m\u001b[0;34m,\u001b[0m \u001b[0;36m0.444\u001b[0m\u001b[0;34m,\u001b[0m \u001b[0;36m0.449\u001b[0m\u001b[0;34m,\u001b[0m \u001b[0;36m0.454\u001b[0m\u001b[0;34m,\u001b[0m \u001b[0;36m0.459\u001b[0m\u001b[0;34m,\u001b[0m \u001b[0;36m0.463\u001b[0m\u001b[0;34m,\u001b[0m \u001b[0;36m0.467\u001b[0m\u001b[0;34m,\u001b[0m \u001b[0;36m0.468\u001b[0m\u001b[0;34m,\u001b[0m \u001b[0;36m0.468\u001b[0m\u001b[0;34m,\u001b[0m \u001b[0;36m0.468\u001b[0m\u001b[0;34m,\u001b[0m \u001b[0;36m0.468\u001b[0m\u001b[0;34m,\u001b[0m \u001b[0;36m0.470\u001b[0m\u001b[0;34m,\u001b[0m \u001b[0;36m0.469\u001b[0m\u001b[0;34m,\u001b[0m \u001b[0;36m0.468\u001b[0m\u001b[0;34m,\u001b[0m \u001b[0;36m0.467\u001b[0m\u001b[0;34m,\u001b[0m \u001b[0;36m0.463\u001b[0m\u001b[0;34m,\u001b[0m \u001b[0;36m0.461\u001b[0m\u001b[0;34m,\u001b[0m \u001b[0;36m0.456\u001b[0m\u001b[0;34m,\u001b[0m \u001b[0;36m0.451\u001b[0m\u001b[0;34m,\u001b[0m \u001b[0;36m0.447\u001b[0m\u001b[0;34m,\u001b[0m \u001b[0;36m0.442\u001b[0m\u001b[0;34m,\u001b[0m \u001b[0;36m0.440\u001b[0m\u001b[0;34m,\u001b[0m \u001b[0;36m0.432\u001b[0m\u001b[0;34m,\u001b[0m \u001b[0;36m0.425\u001b[0m\u001b[0;34m,\u001b[0m \u001b[0;36m0.419\u001b[0m\u001b[0;34m,\u001b[0m \u001b[0;36m0.411\u001b[0m\u001b[0;34m,\u001b[0m \u001b[0;36m0.403\u001b[0m\u001b[0;34m,\u001b[0m \u001b[0;36m0.395\u001b[0m\u001b[0;34m,\u001b[0m \u001b[0;36m0.387\u001b[0m\u001b[0;34m]\u001b[0m\u001b[0;34m,\u001b[0m\u001b[0;34m\u001b[0m\u001b[0;34m\u001b[0m\u001b[0m\n\u001b[1;32m      3\u001b[0m     \u001b[0;34m[\u001b[0m\u001b[0;36m0.435\u001b[0m\u001b[0;34m,\u001b[0m \u001b[0;36m0.442\u001b[0m\u001b[0;34m,\u001b[0m \u001b[0;36m0.447\u001b[0m\u001b[0;34m,\u001b[0m \u001b[0;36m0.453\u001b[0m\u001b[0;34m,\u001b[0m \u001b[0;36m0.457\u001b[0m\u001b[0;34m,\u001b[0m \u001b[0;36m0.463\u001b[0m\u001b[0;34m,\u001b[0m \u001b[0;36m0.468\u001b[0m\u001b[0;34m,\u001b[0m \u001b[0;36m0.472\u001b[0m\u001b[0;34m,\u001b[0m \u001b[0;36m0.474\u001b[0m\u001b[0;34m,\u001b[0m \u001b[0;36m0.476\u001b[0m\u001b[0;34m,\u001b[0m \u001b[0;36m0.478\u001b[0m\u001b[0;34m,\u001b[0m \u001b[0;36m0.478\u001b[0m\u001b[0;34m,\u001b[0m \u001b[0;36m0.478\u001b[0m\u001b[0;34m,\u001b[0m \u001b[0;36m0.477\u001b[0m\u001b[0;34m,\u001b[0m \u001b[0;36m0.476\u001b[0m\u001b[0;34m,\u001b[0m \u001b[0;36m0.474\u001b[0m\u001b[0;34m,\u001b[0m \u001b[0;36m0.472\u001b[0m\u001b[0;34m,\u001b[0m \u001b[0;36m0.472\u001b[0m\u001b[0;34m,\u001b[0m \u001b[0;36m0.467\u001b[0m\u001b[0;34m,\u001b[0m \u001b[0;36m0.465\u001b[0m\u001b[0;34m,\u001b[0m \u001b[0;36m0.461\u001b[0m\u001b[0;34m,\u001b[0m \u001b[0;36m0.459\u001b[0m\u001b[0;34m,\u001b[0m \u001b[0;36m0.453\u001b[0m\u001b[0;34m,\u001b[0m \u001b[0;36m0.447\u001b[0m\u001b[0;34m,\u001b[0m \u001b[0;36m0.441\u001b[0m\u001b[0;34m,\u001b[0m \u001b[0;36m0.434\u001b[0m\u001b[0;34m,\u001b[0m \u001b[0;36m0.425\u001b[0m\u001b[0;34m,\u001b[0m \u001b[0;36m0.419\u001b[0m\u001b[0;34m,\u001b[0m \u001b[0;36m0.410\u001b[0m\u001b[0;34m,\u001b[0m \u001b[0;36m0.402\u001b[0m\u001b[0;34m,\u001b[0m \u001b[0;36m0.395\u001b[0m\u001b[0;34m]\u001b[0m\u001b[0;34m,\u001b[0m\u001b[0;34m\u001b[0m\u001b[0;34m\u001b[0m\u001b[0m\n\u001b[1;32m      4\u001b[0m     \u001b[0;34m[\u001b[0m\u001b[0;36m0.443\u001b[0m\u001b[0;34m,\u001b[0m \u001b[0;36m0.451\u001b[0m\u001b[0;34m,\u001b[0m \u001b[0;36m0.456\u001b[0m\u001b[0;34m,\u001b[0m \u001b[0;36m0.464\u001b[0m\u001b[0;34m,\u001b[0m \u001b[0;36m0.468\u001b[0m\u001b[0;34m,\u001b[0m \u001b[0;36m0.474\u001b[0m\u001b[0;34m,\u001b[0m \u001b[0;36m0.476\u001b[0m\u001b[0;34m,\u001b[0m \u001b[0;36m0.480\u001b[0m\u001b[0;34m,\u001b[0m \u001b[0;36m0.482\u001b[0m\u001b[0;34m,\u001b[0m \u001b[0;36m0.485\u001b[0m\u001b[0;34m,\u001b[0m \u001b[0;36m0.486\u001b[0m\u001b[0;34m,\u001b[0m \u001b[0;36m0.487\u001b[0m\u001b[0;34m,\u001b[0m \u001b[0;36m0.483\u001b[0m\u001b[0;34m,\u001b[0m \u001b[0;36m0.483\u001b[0m\u001b[0;34m,\u001b[0m \u001b[0;36m0.482\u001b[0m\u001b[0;34m,\u001b[0m \u001b[0;36m0.483\u001b[0m\u001b[0;34m,\u001b[0m \u001b[0;36m0.481\u001b[0m\u001b[0;34m,\u001b[0m \u001b[0;36m0.480\u001b[0m\u001b[0;34m,\u001b[0m \u001b[0;36m0.478\u001b[0m\u001b[0;34m,\u001b[0m \u001b[0;36m0.475\u001b[0m\u001b[0;34m,\u001b[0m \u001b[0;36m0.470\u001b[0m\u001b[0;34m,\u001b[0m \u001b[0;36m0.465\u001b[0m\u001b[0;34m,\u001b[0m \u001b[0;36m0.458\u001b[0m\u001b[0;34m,\u001b[0m \u001b[0;36m0.454\u001b[0m\u001b[0;34m,\u001b[0m \u001b[0;36m0.448\u001b[0m\u001b[0;34m,\u001b[0m \u001b[0;36m0.441\u001b[0m\u001b[0;34m,\u001b[0m \u001b[0;36m0.436\u001b[0m\u001b[0;34m,\u001b[0m \u001b[0;36m0.426\u001b[0m\u001b[0;34m,\u001b[0m \u001b[0;36m0.417\u001b[0m\u001b[0;34m,\u001b[0m \u001b[0;36m0.408\u001b[0m\u001b[0;34m,\u001b[0m \u001b[0;36m0.401\u001b[0m\u001b[0;34m]\u001b[0m\u001b[0;34m,\u001b[0m\u001b[0;34m\u001b[0m\u001b[0;34m\u001b[0m\u001b[0m\n\u001b[1;32m      5\u001b[0m     \u001b[0;34m[\u001b[0m\u001b[0;36m0.450\u001b[0m\u001b[0;34m,\u001b[0m \u001b[0;36m0.457\u001b[0m\u001b[0;34m,\u001b[0m \u001b[0;36m0.465\u001b[0m\u001b[0;34m,\u001b[0m \u001b[0;36m0.469\u001b[0m\u001b[0;34m,\u001b[0m \u001b[0;36m0.475\u001b[0m\u001b[0;34m,\u001b[0m \u001b[0;36m0.482\u001b[0m\u001b[0;34m,\u001b[0m \u001b[0;36m0.485\u001b[0m\u001b[0;34m,\u001b[0m \u001b[0;36m0.488\u001b[0m\u001b[0;34m,\u001b[0m \u001b[0;36m0.492\u001b[0m\u001b[0;34m,\u001b[0m \u001b[0;36m0.494\u001b[0m\u001b[0;34m,\u001b[0m \u001b[0;36m0.494\u001b[0m\u001b[0;34m,\u001b[0m \u001b[0;36m0.494\u001b[0m\u001b[0;34m,\u001b[0m \u001b[0;36m0.495\u001b[0m\u001b[0;34m,\u001b[0m \u001b[0;36m0.493\u001b[0m\u001b[0;34m,\u001b[0m \u001b[0;36m0.491\u001b[0m\u001b[0;34m,\u001b[0m \u001b[0;36m0.490\u001b[0m\u001b[0;34m,\u001b[0m \u001b[0;36m0.490\u001b[0m\u001b[0;34m,\u001b[0m \u001b[0;36m0.490\u001b[0m\u001b[0;34m,\u001b[0m \u001b[0;36m0.489\u001b[0m\u001b[0;34m,\u001b[0m \u001b[0;36m0.483\u001b[0m\u001b[0;34m,\u001b[0m \u001b[0;36m0.477\u001b[0m\u001b[0;34m,\u001b[0m \u001b[0;36m0.472\u001b[0m\u001b[0;34m,\u001b[0m \u001b[0;36m0.466\u001b[0m\u001b[0;34m,\u001b[0m \u001b[0;36m0.461\u001b[0m\u001b[0;34m,\u001b[0m \u001b[0;36m0.455\u001b[0m\u001b[0;34m,\u001b[0m \u001b[0;36m0.448\u001b[0m\u001b[0;34m,\u001b[0m \u001b[0;36m0.441\u001b[0m\u001b[0;34m,\u001b[0m \u001b[0;36m0.434\u001b[0m\u001b[0;34m,\u001b[0m \u001b[0;36m0.424\u001b[0m\u001b[0;34m,\u001b[0m \u001b[0;36m0.415\u001b[0m\u001b[0;34m,\u001b[0m \u001b[0;36m0.408\u001b[0m\u001b[0;34m]\u001b[0m\u001b[0;34m,\u001b[0m\u001b[0;34m\u001b[0m\u001b[0;34m\u001b[0m\u001b[0m\n",
      "\u001b[0;31mNameError\u001b[0m: name 'np' is not defined"
     ]
    }
   ],
   "source": [
    "accs = np.array([\n",
    "    [0.426, 0.432, 0.439, 0.444, 0.449, 0.454, 0.459, 0.463, 0.467, 0.468, 0.468, 0.468, 0.468, 0.470, 0.469, 0.468, 0.467, 0.463, 0.461, 0.456, 0.451, 0.447, 0.442, 0.440, 0.432, 0.425, 0.419, 0.411, 0.403, 0.395, 0.387], \n",
    "    [0.435, 0.442, 0.447, 0.453, 0.457, 0.463, 0.468, 0.472, 0.474, 0.476, 0.478, 0.478, 0.478, 0.477, 0.476, 0.474, 0.472, 0.472, 0.467, 0.465, 0.461, 0.459, 0.453, 0.447, 0.441, 0.434, 0.425, 0.419, 0.410, 0.402, 0.395], \n",
    "    [0.443, 0.451, 0.456, 0.464, 0.468, 0.474, 0.476, 0.480, 0.482, 0.485, 0.486, 0.487, 0.483, 0.483, 0.482, 0.483, 0.481, 0.480, 0.478, 0.475, 0.470, 0.465, 0.458, 0.454, 0.448, 0.441, 0.436, 0.426, 0.417, 0.408, 0.401], \n",
    "    [0.450, 0.457, 0.465, 0.469, 0.475, 0.482, 0.485, 0.488, 0.492, 0.494, 0.494, 0.494, 0.495, 0.493, 0.491, 0.490, 0.490, 0.490, 0.489, 0.483, 0.477, 0.472, 0.466, 0.461, 0.455, 0.448, 0.441, 0.434, 0.424, 0.415, 0.408], \n",
    "    [0.459, 0.466, 0.473, 0.477, 0.483, 0.489, 0.496, 0.496, 0.500, 0.501, 0.500, 0.500, 0.501, 0.501, 0.501, 0.500, 0.500, 0.498, 0.495, 0.494, 0.489, 0.483, 0.476, 0.470, 0.462, 0.455, 0.449, 0.440, 0.432, 0.424, 0.416], \n",
    "    [0.470, 0.475, 0.483, 0.488, 0.494, 0.500, 0.504, 0.506, 0.506, 0.507, 0.510, 0.508, 0.508, 0.510, 0.508, 0.509, 0.508, 0.506, 0.504, 0.502, 0.495, 0.492, 0.485, 0.478, 0.472, 0.465, 0.457, 0.448, 0.441, 0.430, 0.424], \n",
    "    [0.479, 0.485, 0.492, 0.497, 0.502, 0.507, 0.511, 0.514, 0.515, 0.517, 0.519, 0.518, 0.519, 0.517, 0.516, 0.516, 0.513, 0.514, 0.512, 0.508, 0.503, 0.500, 0.496, 0.489, 0.481, 0.473, 0.466, 0.457, 0.448, 0.440, 0.430], \n",
    "    [0.486, 0.494, 0.501, 0.505, 0.510, 0.517, 0.521, 0.522, 0.524, 0.525, 0.526, 0.525, 0.525, 0.526, 0.524, 0.524, 0.521, 0.520, 0.517, 0.513, 0.511, 0.505, 0.499, 0.495, 0.488, 0.480, 0.471, 0.462, 0.454, 0.447, 0.436], \n",
    "    [0.492, 0.501, 0.508, 0.514, 0.520, 0.524, 0.528, 0.531, 0.533, 0.533, 0.535, 0.534, 0.532, 0.532, 0.530, 0.529, 0.527, 0.524, 0.524, 0.519, 0.515, 0.511, 0.507, 0.501, 0.495, 0.486, 0.477, 0.470, 0.460, 0.451, 0.443], \n",
    "    [0.499, 0.505, 0.512, 0.521, 0.523, 0.530, 0.534, 0.536, 0.537, 0.538, 0.540, 0.540, 0.538, 0.538, 0.537, 0.534, 0.533, 0.530, 0.529, 0.526, 0.521, 0.515, 0.510, 0.507, 0.499, 0.492, 0.485, 0.477, 0.467, 0.459, 0.450], \n",
    "    [0.504, 0.510, 0.517, 0.523, 0.529, 0.534, 0.536, 0.539, 0.539, 0.541, 0.543, 0.544, 0.544, 0.542, 0.542, 0.540, 0.537, 0.535, 0.533, 0.529, 0.525, 0.520, 0.515, 0.510, 0.503, 0.495, 0.487, 0.481, 0.472, 0.464, 0.457], \n",
    "    [0.508, 0.514, 0.520, 0.525, 0.531, 0.534, 0.537, 0.541, 0.542, 0.545, 0.546, 0.546, 0.548, 0.548, 0.547, 0.544, 0.541, 0.539, 0.536, 0.534, 0.527, 0.524, 0.518, 0.513, 0.507, 0.499, 0.492, 0.485, 0.477, 0.470, 0.461], \n",
    "    [0.509, 0.514, 0.521, 0.526, 0.531, 0.533, 0.538, 0.542, 0.544, 0.544, 0.546, 0.548, 0.548, 0.549, 0.548, 0.547, 0.544, 0.542, 0.539, 0.536, 0.531, 0.525, 0.520, 0.515, 0.508, 0.502, 0.494, 0.487, 0.477, 0.471, 0.464], \n",
    "    [0.507, 0.513, 0.521, 0.526, 0.531, 0.534, 0.538, 0.540, 0.544, 0.544, 0.546, 0.548, 0.549, 0.549, 0.549, 0.548, 0.546, 0.542, 0.539, 0.535, 0.533, 0.528, 0.521, 0.516, 0.509, 0.502, 0.495, 0.486, 0.478, 0.470, 0.464], \n",
    "    [0.507, 0.514, 0.519, 0.524, 0.530, 0.534, 0.538, 0.539, 0.542, 0.543, 0.544, 0.546, 0.548, 0.547, 0.549, 0.547, 0.545, 0.542, 0.538, 0.535, 0.531, 0.527, 0.522, 0.517, 0.510, 0.501, 0.495, 0.489, 0.481, 0.474, 0.465], \n",
    "    [0.507, 0.513, 0.517, 0.520, 0.527, 0.530, 0.533, 0.535, 0.538, 0.539, 0.541, 0.544, 0.544, 0.545, 0.545, 0.544, 0.542, 0.541, 0.539, 0.534, 0.532, 0.528, 0.524, 0.518, 0.512, 0.506, 0.499, 0.491, 0.484, 0.477, 0.469], \n",
    "    [0.507, 0.511, 0.515, 0.519, 0.522, 0.526, 0.529, 0.530, 0.533, 0.536, 0.537, 0.539, 0.539, 0.541, 0.542, 0.542, 0.540, 0.538, 0.536, 0.533, 0.529, 0.525, 0.521, 0.518, 0.513, 0.509, 0.502, 0.493, 0.486, 0.481, 0.471], \n",
    "    [0.503, 0.507, 0.512, 0.516, 0.520, 0.523, 0.524, 0.527, 0.531, 0.533, 0.535, 0.535, 0.536, 0.536, 0.538, 0.537, 0.536, 0.534, 0.532, 0.531, 0.529, 0.525, 0.523, 0.517, 0.513, 0.508, 0.503, 0.496, 0.488, 0.481, 0.474], \n",
    "    [0.499, 0.505, 0.509, 0.513, 0.515, 0.519, 0.521, 0.524, 0.526, 0.530, 0.532, 0.532, 0.532, 0.533, 0.533, 0.533, 0.532, 0.531, 0.530, 0.529, 0.528, 0.525, 0.523, 0.518, 0.512, 0.509, 0.502, 0.498, 0.490, 0.482, 0.473], \n",
    "    [0.496, 0.502, 0.506, 0.511, 0.514, 0.516, 0.520, 0.522, 0.524, 0.526, 0.527, 0.530, 0.530, 0.532, 0.531, 0.528, 0.529, 0.527, 0.528, 0.526, 0.525, 0.523, 0.520, 0.516, 0.511, 0.506, 0.502, 0.496, 0.488, 0.482, 0.476], \n",
    "    [0.495, 0.500, 0.502, 0.507, 0.511, 0.515, 0.517, 0.522, 0.522, 0.524, 0.524, 0.527, 0.527, 0.528, 0.528, 0.528, 0.527, 0.526, 0.525, 0.524, 0.522, 0.520, 0.516, 0.512, 0.508, 0.502, 0.499, 0.494, 0.490, 0.483, 0.477], \n",
    "    [0.495, 0.498, 0.502, 0.506, 0.509, 0.514, 0.517, 0.517, 0.518, 0.522, 0.522, 0.523, 0.524, 0.526, 0.526, 0.526, 0.524, 0.525, 0.522, 0.521, 0.520, 0.516, 0.514, 0.511, 0.506, 0.502, 0.497, 0.492, 0.488, 0.485, 0.476], \n",
    "    [0.494, 0.498, 0.501, 0.506, 0.510, 0.512, 0.514, 0.516, 0.517, 0.519, 0.519, 0.519, 0.520, 0.522, 0.522, 0.523, 0.521, 0.519, 0.519, 0.518, 0.518, 0.515, 0.511, 0.509, 0.504, 0.499, 0.496, 0.492, 0.486, 0.483, 0.477], \n",
    "    [0.492, 0.496, 0.500, 0.504, 0.507, 0.510, 0.513, 0.514, 0.515, 0.515, 0.516, 0.517, 0.519, 0.518, 0.518, 0.518, 0.517, 0.516, 0.515, 0.515, 0.514, 0.512, 0.511, 0.508, 0.502, 0.497, 0.494, 0.489, 0.484, 0.481, 0.478], \n",
    "    [0.488, 0.492, 0.498, 0.502, 0.504, 0.507, 0.510, 0.511, 0.512, 0.513, 0.514, 0.516, 0.516, 0.515, 0.515, 0.514, 0.513, 0.513, 0.513, 0.511, 0.510, 0.510, 0.508, 0.506, 0.502, 0.496, 0.493, 0.488, 0.484, 0.479, 0.474], \n",
    "    [0.485, 0.490, 0.495, 0.498, 0.503, 0.505, 0.506, 0.509, 0.510, 0.511, 0.511, 0.511, 0.512, 0.512, 0.510, 0.512, 0.510, 0.508, 0.507, 0.507, 0.505, 0.504, 0.503, 0.501, 0.499, 0.494, 0.490, 0.488, 0.484, 0.480, 0.475], \n",
    "    [0.482, 0.486, 0.491, 0.495, 0.498, 0.500, 0.503, 0.506, 0.507, 0.509, 0.509, 0.507, 0.508, 0.508, 0.506, 0.506, 0.507, 0.507, 0.504, 0.503, 0.502, 0.500, 0.498, 0.498, 0.496, 0.493, 0.488, 0.485, 0.483, 0.479, 0.474], \n",
    "    [0.478, 0.482, 0.488, 0.491, 0.494, 0.497, 0.500, 0.501, 0.503, 0.504, 0.504, 0.505, 0.503, 0.503, 0.503, 0.504, 0.505, 0.502, 0.501, 0.500, 0.498, 0.496, 0.494, 0.493, 0.491, 0.489, 0.486, 0.482, 0.480, 0.478, 0.474], \n",
    "    [0.477, 0.480, 0.484, 0.488, 0.490, 0.493, 0.496, 0.498, 0.498, 0.500, 0.500, 0.500, 0.500, 0.499, 0.499, 0.500, 0.500, 0.498, 0.498, 0.497, 0.495, 0.494, 0.491, 0.490, 0.488, 0.487, 0.483, 0.480, 0.479, 0.475, 0.472], \n",
    "    [0.475, 0.478, 0.481, 0.485, 0.488, 0.489, 0.491, 0.493, 0.493, 0.495, 0.495, 0.495, 0.496, 0.495, 0.496, 0.496, 0.495, 0.495, 0.496, 0.495, 0.493, 0.491, 0.488, 0.489, 0.486, 0.485, 0.481, 0.477, 0.475, 0.471, 0.468], \n",
    "    [0.472, 0.476, 0.479, 0.480, 0.484, 0.486, 0.488, 0.490, 0.490, 0.490, 0.491, 0.490, 0.491, 0.491, 0.491, 0.491, 0.491, 0.493, 0.493, 0.491, 0.490, 0.488, 0.486, 0.484, 0.483, 0.482, 0.479, 0.476, 0.472, 0.466, 0.465], \n",
    "])"
   ]
  },
  {
   "cell_type": "code",
   "execution_count": 1,
   "metadata": {},
   "outputs": [
    {
     "ename": "NameError",
     "evalue": "name 'plt' is not defined",
     "output_type": "error",
     "traceback": [
      "\u001b[0;31m---------------------------------------------------------------------------\u001b[0m",
      "\u001b[0;31mNameError\u001b[0m                                 Traceback (most recent call last)",
      "\u001b[0;32m/tmp/ipykernel_53259/2715357138.py\u001b[0m in \u001b[0;36m<module>\u001b[0;34m\u001b[0m\n\u001b[1;32m      3\u001b[0m \u001b[0mARROW_STYLE\u001b[0m \u001b[0;34m=\u001b[0m \u001b[0;34m\"Simple, tail_width=0.5, head_width=8, head_length=8\"\u001b[0m\u001b[0;34m\u001b[0m\u001b[0;34m\u001b[0m\u001b[0m\n\u001b[1;32m      4\u001b[0m \u001b[0;34m\u001b[0m\u001b[0m\n\u001b[0;32m----> 5\u001b[0;31m \u001b[0mfig\u001b[0m\u001b[0;34m,\u001b[0m \u001b[0max\u001b[0m \u001b[0;34m=\u001b[0m \u001b[0mplt\u001b[0m\u001b[0;34m.\u001b[0m\u001b[0msubplots\u001b[0m\u001b[0;34m(\u001b[0m\u001b[0;36m1\u001b[0m\u001b[0;34m,\u001b[0m \u001b[0;36m1\u001b[0m\u001b[0;34m,\u001b[0m \u001b[0mdpi\u001b[0m\u001b[0;34m=\u001b[0m\u001b[0;36m150\u001b[0m\u001b[0;34m,\u001b[0m \u001b[0mfigsize\u001b[0m\u001b[0;34m=\u001b[0m\u001b[0;34m(\u001b[0m\u001b[0;36m6\u001b[0m\u001b[0;34m,\u001b[0m \u001b[0;36m5\u001b[0m\u001b[0;34m)\u001b[0m\u001b[0;34m)\u001b[0m\u001b[0;34m\u001b[0m\u001b[0;34m\u001b[0m\u001b[0m\n\u001b[0m\u001b[1;32m      6\u001b[0m \u001b[0;34m\u001b[0m\u001b[0m\n\u001b[1;32m      7\u001b[0m \u001b[0mcbar\u001b[0m \u001b[0;34m=\u001b[0m \u001b[0max\u001b[0m\u001b[0;34m.\u001b[0m\u001b[0mcontourf\u001b[0m\u001b[0;34m(\u001b[0m\u001b[0mx_grid\u001b[0m\u001b[0;34m,\u001b[0m \u001b[0my_grid\u001b[0m\u001b[0;34m,\u001b[0m \u001b[0maccs\u001b[0m\u001b[0;34m,\u001b[0m \u001b[0mlevels\u001b[0m\u001b[0;34m=\u001b[0m\u001b[0;36m10\u001b[0m\u001b[0;34m)\u001b[0m\u001b[0;34m\u001b[0m\u001b[0;34m\u001b[0m\u001b[0m\n",
      "\u001b[0;31mNameError\u001b[0m: name 'plt' is not defined"
     ]
    }
   ],
   "source": [
    "import matplotlib.patches as patches\n",
    "\n",
    "ARROW_STYLE = \"Simple, tail_width=0.5, head_width=8, head_length=8\"\n",
    "\n",
    "fig, ax = plt.subplots(1, 1, dpi=150, figsize=(6, 5))\n",
    "\n",
    "cbar = ax.contourf(x_grid, y_grid, accs, levels=10)\n",
    "ax.scatter(fitted_weight_space[:, 0], fitted_weight_space[:, 1], c='white', marker='x', s=64)\n",
    "for i in range(len(fitted_weight_space)):\n",
    "    ax.text(fitted_weight_space[i, 0]+0.5, fitted_weight_space[i, 1]-0.5, s=str(i))\n",
    "    if (i > 0 and i <= 4) or (i > 5 and i <= 9):\n",
    "        x_prev, y_prev = fitted_weight_space[i-1, 0], fitted_weight_space[i-1, 1]\n",
    "        x_curr, y_curr = fitted_weight_space[i, 0], fitted_weight_space[i, 1]\n",
    "        arr = patches.FancyArrowPatch((x_prev, y_prev), (x_curr, y_curr), arrowstyle=ARROW_STYLE, connectionstyle=\"arc3, rad=.2\")\n",
    "        fig.gca().add_patch(arr)\n",
    "    \n",
    "ax.axis('off')\n",
    "fig.colorbar(cbar)\n",
    "fig.show()"
   ]
  },
  {
   "cell_type": "code",
   "execution_count": null,
   "metadata": {},
   "outputs": [],
   "source": []
  }
 ],
 "metadata": {
  "kernelspec": {
   "display_name": "Python 3.9.7 ('egyun')",
   "language": "python",
   "name": "python3"
  },
  "language_info": {
   "codemirror_mode": {
    "name": "ipython",
    "version": 3
   },
   "file_extension": ".py",
   "mimetype": "text/x-python",
   "name": "python",
   "nbconvert_exporter": "python",
   "pygments_lexer": "ipython3",
   "version": "3.9.7"
  },
  "orig_nbformat": 4,
  "vscode": {
   "interpreter": {
    "hash": "2065fe8fb1b00e0be4922aac81a3bdc98dbc6b7a0d4ce84d60e19c8982df874a"
   }
  }
 },
 "nbformat": 4,
 "nbformat_minor": 2
}
