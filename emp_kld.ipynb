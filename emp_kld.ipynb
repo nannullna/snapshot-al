{
 "cells": [
  {
   "cell_type": "code",
   "execution_count": 27,
   "metadata": {},
   "outputs": [],
   "source": [
    "import os\n",
    "from glob import glob\n",
    "\n",
    "import numpy as np\n",
    "import torch\n",
    "import torch.nn.functional as F\n",
    "from torchvision.datasets import CIFAR10\n",
    "\n",
    "from evaluate.calibration import nll, ece_loss\n",
    "from evaluate.divergence import kld, disagreement\n",
    "from evaluate.similarity import cka, gram_linear, gram_rbf"
   ]
  },
  {
   "cell_type": "code",
   "execution_count": 48,
   "metadata": {},
   "outputs": [
    {
     "name": "stdout",
     "output_type": "stream",
     "text": [
      "5 predictions exist.\n"
     ]
    }
   ],
   "source": [
    "EXP_PATH = \"./empirical/swa_20220922_185019\"\n",
    "TRAIN_SIZE = 8000\n",
    "\n",
    "logit_pts = glob(os.path.join(EXP_PATH, f\"logits_size={TRAIN_SIZE}_*.pt\"))\n",
    "print(f\"{len(logit_pts)} predictions exist.\")"
   ]
  },
  {
   "cell_type": "code",
   "execution_count": 49,
   "metadata": {},
   "outputs": [
    {
     "data": {
      "text/plain": [
       "1.050155845284462"
      ]
     },
     "execution_count": 49,
     "metadata": {},
     "output_type": "execute_result"
    }
   ],
   "source": [
    "all_klds = np.zeros((len(logit_pts), len(logit_pts)))\n",
    "\n",
    "for i in range(len(logit_pts)):\n",
    "    logit_p = torch.load(logit_pts[i], map_location='cpu')\n",
    "    prob_p  = F.softmax(logit_p, dim=-1).numpy()\n",
    "    for j in range(len(logit_pts)):\n",
    "        logit_q = torch.load(logit_pts[j], map_location='cpu')\n",
    "        prob_q  = F.softmax(logit_q, dim=-1).numpy()\n",
    "        all_klds[i, j] = kld(prob_p, prob_q).mean()\n",
    "\n",
    "all_klds.mean() * (len(logit_pts)) / (len(logit_pts)-1)"
   ]
  },
  {
   "cell_type": "code",
   "execution_count": 50,
   "metadata": {},
   "outputs": [
    {
     "data": {
      "text/plain": [
       "0.45255999565124516"
      ]
     },
     "execution_count": 50,
     "metadata": {},
     "output_type": "execute_result"
    }
   ],
   "source": [
    "all_disagrees = np.zeros((len(logit_pts), len(logit_pts)))\n",
    "\n",
    "for i in range(len(logit_pts)):\n",
    "    logit_p = torch.load(logit_pts[i], map_location='cpu')\n",
    "    for j in range(len(logit_pts)):\n",
    "        logit_q = torch.load(logit_pts[j], map_location='cpu')\n",
    "        all_disagrees[i, j] = disagreement(logit_p, logit_q)\n",
    "\n",
    "all_disagrees.mean() * (len(logit_pts)) / (len(logit_pts)-1)"
   ]
  },
  {
   "cell_type": "code",
   "execution_count": 51,
   "metadata": {},
   "outputs": [
    {
     "data": {
      "text/plain": [
       "0.6235799999999999"
      ]
     },
     "execution_count": 51,
     "metadata": {},
     "output_type": "execute_result"
    }
   ],
   "source": [
    "all_accs = np.zeros((len(logit_pts),))\n",
    "test_set = CIFAR10(\"/opt/datasets/cifar10\", train=False)\n",
    "all_targets = np.asarray(test_set.targets)\n",
    "\n",
    "for i in range(len(logit_pts)):\n",
    "    logit_p = torch.load(logit_pts[i], map_location='cpu')\n",
    "    pred_p  = torch.argmax(logit_p, dim=-1).numpy()\n",
    "    acc = (all_targets == pred_p).mean()\n",
    "\n",
    "    all_accs[i] = acc\n",
    "\n",
    "all_accs.mean()"
   ]
  },
  {
   "cell_type": "code",
   "execution_count": 52,
   "metadata": {},
   "outputs": [
    {
     "data": {
      "text/plain": [
       "1.162368929386139"
      ]
     },
     "execution_count": 52,
     "metadata": {},
     "output_type": "execute_result"
    }
   ],
   "source": [
    "all_nlls = np.zeros((len(logit_pts),))\n",
    "\n",
    "for i in range(len(logit_pts)):\n",
    "    logit_p = torch.load(logit_pts[i], map_location='cpu')\n",
    "    prob_p  = F.softmax(logit_p, dim=1).numpy()\n",
    "    nll_p = nll(prob_p, all_targets)\n",
    "\n",
    "    all_nlls[i] = nll_p\n",
    "\n",
    "all_nlls.mean()"
   ]
  },
  {
   "cell_type": "code",
   "execution_count": null,
   "metadata": {},
   "outputs": [],
   "source": [
    "all_eces = np.zeros((len(logit_pts),))\n",
    "\n",
    "for i in range(len(logit_pts)):\n",
    "    logit_p = torch.load(logit_pts[i], map_location='cpu')\n",
    "    prob_p  = F.softmax(logit_p, dim=1).numpy()\n",
    "    nll_p = nll(prob_p, all_targets)\n",
    "\n",
    "    all_nlls[i] = nll_p\n",
    "\n",
    "all_nlls.mean()"
   ]
  }
 ],
 "metadata": {
  "kernelspec": {
   "display_name": "Python 3.8.13 ('torch-al')",
   "language": "python",
   "name": "python3"
  },
  "language_info": {
   "codemirror_mode": {
    "name": "ipython",
    "version": 3
   },
   "file_extension": ".py",
   "mimetype": "text/x-python",
   "name": "python",
   "nbconvert_exporter": "python",
   "pygments_lexer": "ipython3",
   "version": "3.8.13"
  },
  "orig_nbformat": 4,
  "vscode": {
   "interpreter": {
    "hash": "10599d7ed78789edf1fff4793b30ea25b2775b5524f428f8398e0b6e2fc1d4fe"
   }
  }
 },
 "nbformat": 4,
 "nbformat_minor": 2
}
